{
  "nbformat": 4,
  "nbformat_minor": 0,
  "metadata": {
    "colab": {
      "name": "reto1.py",
      "provenance": [],
      "collapsed_sections": [],
      "include_colab_link": true
    },
    "kernelspec": {
      "name": "python3",
      "display_name": "Python 3"
    }
  },
  "cells": [
    {
      "cell_type": "markdown",
      "metadata": {
        "id": "view-in-github",
        "colab_type": "text"
      },
      "source": [
        "<a href=\"https://colab.research.google.com/github/robinsonmunozinnovatic/robinsonpruebamicrobit/blob/master/reto1_py.ipynb\" target=\"_parent\"><img src=\"https://colab.research.google.com/assets/colab-badge.svg\" alt=\"Open In Colab\"/></a>"
      ]
    },
    {
      "cell_type": "code",
      "metadata": {
        "id": "G9IXx_h03Caa",
        "colab_type": "code",
        "colab": {
          "base_uri": "https://localhost:8080/",
          "height": 247
        },
        "outputId": "d6aad242-8c27-49d0-e4e1-c8ef9d7fd702"
      },
      "source": [
        "print(\"Producto:\")\n",
        "Nombre_Producto = input()\n",
        "print(\"CU:\")\n",
        "Precio_Costo = int(input())\n",
        "print(\"PVP:\")\n",
        "Precio_Venta = int(input())\n",
        "print(\"Unidades disponibles:\")\n",
        "Inventario = int(input())\n",
        "Ganancia = Precio_Venta * Inventario - Precio_Costo * Inventario\n",
        "print(\"Producto:\" + \" \" + str(Nombre_Producto))\n",
        "print(\"CU:\" + \" \" + str(Precio_Costo))\n",
        "print(\"PVP:\" + \" \" + str(Precio_Venta))\n",
        "print(\"Unidades disponibles:\" + \" \" + str(Inventario))\n",
        "print(\"Ganancia:\" + \" \" + str(Ganancia))\n",
        "\n"
      ],
      "execution_count": null,
      "outputs": [
        {
          "output_type": "stream",
          "text": [
            "Producto:\n",
            "sal\n",
            "CU:\n",
            "350\n",
            "PVP:\n",
            "500\n",
            "Unidades disponibles:\n",
            "1000\n",
            "Producto: sal\n",
            "CU: 350\n",
            "PVP: 500\n",
            "Unidades disponibles: 1000\n",
            "Ganancia: 150000\n"
          ],
          "name": "stdout"
        }
      ]
    },
    {
      "cell_type": "code",
      "metadata": {
        "id": "pWej5-UjQHUu",
        "colab_type": "code",
        "colab": {
          "base_uri": "https://localhost:8080/",
          "height": 105
        },
        "outputId": "a07942ce-922f-44a1-e3a5-eff709db592f"
      },
      "source": [
        "Valor_Retiro = int(input(\"Valor retiro: \"))\n",
        "B_100000 = Valor_Retiro//100000\n",
        "print(str(B_100000) + \" \" + \"x $100000\")\n",
        "M_100000 = Valor_Retiro%100000\n",
        "B_50000 = M_100000//50000\n",
        "print(str(B_50000) +  \" \" + \"x $50000\")\n",
        "M_50000 = M_100000%50000\n",
        "B_20000 = M_50000//20000\n",
        "print(str(B_20000) + \" \" + \"x $20000\")\n",
        "M_20000 = M_50000%20000\n",
        "B_10000 = M_20000//10000\n",
        "print(str(B_10000) + \" \" + \"x $10000\")\n"
      ],
      "execution_count": null,
      "outputs": [
        {
          "output_type": "stream",
          "text": [
            "Valor retiro: 870000\n",
            "8 x $100000\n",
            "1 x $50000\n",
            "1 x $20000\n",
            "0 x $10000\n"
          ],
          "name": "stdout"
        }
      ]
    },
    {
      "cell_type": "code",
      "metadata": {
        "id": "MLarcMe0pQfJ",
        "colab_type": "code",
        "colab": {
          "base_uri": "https://localhost:8080/",
          "height": 105
        },
        "outputId": "98fff11f-7da0-478b-8d0b-90079cbedd62"
      },
      "source": [
        "Valor_Retiro = int(input())\n",
        "b_100000 = Valor_Retiro//100000\n",
        "print(str(b_100000) + \" \" + \"x $100000\")\n",
        "m_100000 = Valor_Retiro%100000\n",
        "b_50000 = m_100000//50000\n",
        "print(str(b_50000) +  \" \" + \"x $50000\")\n",
        "m_50000 = m_100000%50000\n",
        "b_20000 = m_50000//20000\n",
        "print(str(b_20000) + \" \" + \"x $20000\")\n",
        "m_20000 = m_50000%20000\n",
        "b_10000 = m_20000//10000\n",
        "print(str(b_10000) + \" \" + \"x $10000\")"
      ],
      "execution_count": null,
      "outputs": [
        {
          "output_type": "stream",
          "text": [
            "770000\n",
            "7 x $100000\n",
            "1 x $50000\n",
            "1 x $20000\n",
            "0 x $10000\n"
          ],
          "name": "stdout"
        }
      ]
    },
    {
      "cell_type": "code",
      "metadata": {
        "id": "seGn8ADjqUTv",
        "colab_type": "code",
        "colab": {
          "base_uri": "https://localhost:8080/",
          "height": 105
        },
        "outputId": "d565c254-bf70-44c6-913f-868f73fffbd5"
      },
      "source": [
        "Valor_Retiro = int(input())\n",
        "b_100000 = Valor_Retiro//100000\n",
        "m_100000 = Valor_Retiro%100000\n",
        "b_50000 = m_100000//50000\n",
        "m_50000 = m_100000%50000\n",
        "b_20000 = m_50000//20000\n",
        "m_20000 = m_50000%20000\n",
        "b_10000 = m_20000//10000\n",
        "\n",
        "print(str(b_100000) + \" \" + \"x $100000\")\n",
        "print(str(b_50000) +  \" \" + \"x $50000\")\n",
        "print(str(b_20000) + \" \" + \"x $20000\")\n",
        "print(str(b_10000) + \" \" + \"x $10000\")"
      ],
      "execution_count": null,
      "outputs": [
        {
          "output_type": "stream",
          "text": [
            "770000\n",
            "7 x $100000\n",
            "1 x $50000\n",
            "1 x $20000\n",
            "0 x $10000\n"
          ],
          "name": "stdout"
        }
      ]
    },
    {
      "cell_type": "code",
      "metadata": {
        "id": "iHjHFI5GrkwT",
        "colab_type": "code",
        "colab": {}
      },
      "source": [
        ""
      ],
      "execution_count": null,
      "outputs": []
    }
  ]
}